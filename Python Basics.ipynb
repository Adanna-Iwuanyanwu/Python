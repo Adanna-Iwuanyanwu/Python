{
 "cells": [
  {
   "cell_type": "markdown",
   "id": "43124d07",
   "metadata": {},
   "source": [
    "## Data Types In Python"
   ]
  },
  {
   "cell_type": "code",
   "execution_count": 1,
   "id": "1da082e5",
   "metadata": {},
   "outputs": [
    {
     "data": {
      "text/plain": [
       "int"
      ]
     },
     "execution_count": 1,
     "metadata": {},
     "output_type": "execute_result"
    }
   ],
   "source": [
    "# Integers\n",
    "a = 20\n",
    "type(a)"
   ]
  },
  {
   "cell_type": "code",
   "execution_count": 2,
   "id": "b046bec1",
   "metadata": {},
   "outputs": [
    {
     "data": {
      "text/plain": [
       "float"
      ]
     },
     "execution_count": 2,
     "metadata": {},
     "output_type": "execute_result"
    }
   ],
   "source": [
    "#Float\n",
    "b = 3.5\n",
    "type(b)"
   ]
  },
  {
   "cell_type": "code",
   "execution_count": 3,
   "id": "cb311bf8",
   "metadata": {},
   "outputs": [
    {
     "data": {
      "text/plain": [
       "str"
      ]
     },
     "execution_count": 3,
     "metadata": {},
     "output_type": "execute_result"
    }
   ],
   "source": [
    "#Strings\n",
    "c = 'Ada'\n",
    "type(c)"
   ]
  },
  {
   "cell_type": "code",
   "execution_count": 8,
   "id": "eeab1b81",
   "metadata": {},
   "outputs": [
    {
     "name": "stdout",
     "output_type": "stream",
     "text": [
      "False\n"
     ]
    },
    {
     "data": {
      "text/plain": [
       "bool"
      ]
     },
     "execution_count": 8,
     "metadata": {},
     "output_type": "execute_result"
    }
   ],
   "source": [
    "#Boolean\n",
    "d = 7 > 9\n",
    "print(d)\n",
    "type(d)"
   ]
  },
  {
   "cell_type": "code",
   "execution_count": 11,
   "id": "d98ec07f",
   "metadata": {},
   "outputs": [
    {
     "name": "stdout",
     "output_type": "stream",
     "text": [
      "True\n"
     ]
    },
    {
     "data": {
      "text/plain": [
       "bool"
      ]
     },
     "execution_count": 11,
     "metadata": {},
     "output_type": "execute_result"
    }
   ],
   "source": [
    "e = 4 < 10\n",
    "print(e)\n",
    "type(e)"
   ]
  },
  {
   "cell_type": "markdown",
   "id": "da5f87aa",
   "metadata": {},
   "source": [
    "## Typecasting"
   ]
  },
  {
   "cell_type": "code",
   "execution_count": 52,
   "id": "04bbdf24",
   "metadata": {},
   "outputs": [
    {
     "data": {
      "text/plain": [
       "4.0"
      ]
     },
     "execution_count": 52,
     "metadata": {},
     "output_type": "execute_result"
    }
   ],
   "source": [
    "#Cast an int to a float\n",
    "float(4)"
   ]
  },
  {
   "cell_type": "code",
   "execution_count": 53,
   "id": "a453c460",
   "metadata": {},
   "outputs": [
    {
     "data": {
      "text/plain": [
       "5"
      ]
     },
     "execution_count": 53,
     "metadata": {},
     "output_type": "execute_result"
    }
   ],
   "source": [
    "#Cast a float to an int\n",
    "int(5.2)"
   ]
  },
  {
   "cell_type": "code",
   "execution_count": 55,
   "id": "bc422c58",
   "metadata": {},
   "outputs": [
    {
     "data": {
      "text/plain": [
       "'3.5'"
      ]
     },
     "execution_count": 55,
     "metadata": {},
     "output_type": "execute_result"
    }
   ],
   "source": [
    "#Cast a float to a string\n",
    "str(3.5)"
   ]
  },
  {
   "cell_type": "code",
   "execution_count": 56,
   "id": "667cc8e5",
   "metadata": {},
   "outputs": [
    {
     "data": {
      "text/plain": [
       "'6'"
      ]
     },
     "execution_count": 56,
     "metadata": {},
     "output_type": "execute_result"
    }
   ],
   "source": [
    "#Cast an int to a string\n",
    "str(6)"
   ]
  },
  {
   "cell_type": "code",
   "execution_count": null,
   "id": "5acc0896",
   "metadata": {},
   "outputs": [],
   "source": [
    "# When a string is cast to a float or an int, it will give an error\n"
   ]
  },
  {
   "cell_type": "markdown",
   "id": "d455df26",
   "metadata": {},
   "source": [
    "## Expression and Variables"
   ]
  },
  {
   "cell_type": "code",
   "execution_count": 15,
   "id": "02cb68c0",
   "metadata": {},
   "outputs": [
    {
     "data": {
      "text/plain": [
       "2"
      ]
     },
     "execution_count": 15,
     "metadata": {},
     "output_type": "execute_result"
    }
   ],
   "source": [
    "#Expression\n",
    "6 * 9\n",
    "10 + 39\n",
    "40 - 36\n",
    "20 // 10"
   ]
  },
  {
   "cell_type": "code",
   "execution_count": 18,
   "id": "610eec43",
   "metadata": {},
   "outputs": [
    {
     "name": "stdout",
     "output_type": "stream",
     "text": [
      "(1, 2, 3)\n"
     ]
    },
    {
     "data": {
      "text/plain": [
       "tuple"
      ]
     },
     "execution_count": 18,
     "metadata": {},
     "output_type": "execute_result"
    }
   ],
   "source": [
    "#Variables\n",
    "numbers = 1, 2, 3\n",
    "print(numbers)\n",
    "type(numbers)"
   ]
  },
  {
   "cell_type": "code",
   "execution_count": 20,
   "id": "00bdd91f",
   "metadata": {},
   "outputs": [
    {
     "name": "stdout",
     "output_type": "stream",
     "text": [
      "Grape\n"
     ]
    },
    {
     "data": {
      "text/plain": [
       "str"
      ]
     },
     "execution_count": 20,
     "metadata": {},
     "output_type": "execute_result"
    }
   ],
   "source": [
    "fruit = 'Grape'\n",
    "print(fruit)\n",
    "type(fruit)"
   ]
  },
  {
   "cell_type": "markdown",
   "id": "8f50ac04",
   "metadata": {},
   "source": [
    "## String"
   ]
  },
  {
   "cell_type": "code",
   "execution_count": 7,
   "id": "4fcc38c8",
   "metadata": {},
   "outputs": [
    {
     "name": "stdout",
     "output_type": "stream",
     "text": [
      "Adanna\n",
      "Iwuanyanwu\n",
      "Adanna Iwuanyanwu\n",
      "Love Love Love \n",
      "Love Hate\n"
     ]
    }
   ],
   "source": [
    "#String\n",
    "name = 'Adanna'\n",
    "print(name)\n",
    "other_name = \"Iwuanyanwu\"\n",
    "print(other_name)\n",
    "\n",
    "names = 'Adanna' \" \" 'Iwuanyanwu'\n",
    "print(names)\n",
    "\n",
    "emotion = 'Love' \" \" * 3\n",
    "print(emotion)\n",
    "\n",
    "emotion = 'Love' \" \" 'Hate'\n",
    "print(emotion)"
   ]
  },
  {
   "cell_type": "code",
   "execution_count": 56,
   "id": "235a50da",
   "metadata": {},
   "outputs": [
    {
     "name": "stdout",
     "output_type": "stream",
     "text": [
      "('Red', 'Green', 'Blue')\n"
     ]
    },
    {
     "data": {
      "text/plain": [
       "tuple"
      ]
     },
     "execution_count": 56,
     "metadata": {},
     "output_type": "execute_result"
    }
   ],
   "source": [
    "colours = 'Red', 'Green','Blue'\n",
    "print(colours)\n",
    "type(colours)"
   ]
  },
  {
   "cell_type": "markdown",
   "id": "e90e9334",
   "metadata": {},
   "source": [
    "## List"
   ]
  },
  {
   "cell_type": "code",
   "execution_count": 59,
   "id": "2382f147",
   "metadata": {},
   "outputs": [
    {
     "name": "stdout",
     "output_type": "stream",
     "text": [
      "['Pussy cat', 'Lion', 'Tiger', 'Jaguar', 'Leopard', 'Cheetah']\n"
     ]
    }
   ],
   "source": [
    "Cats = ['Pussy cat', 'Lion', 'Tiger','Jaguar', 'Leopard', 'Cheetah']\n",
    "print(Cats)"
   ]
  },
  {
   "cell_type": "code",
   "execution_count": 87,
   "id": "ac40a9bb",
   "metadata": {},
   "outputs": [
    {
     "name": "stdout",
     "output_type": "stream",
     "text": [
      "['Pussy cat', 'Lion', 'Tiger', 'Jaguar', 'Leopard', 'Cheetah', 'Cougar', 'Cougar']\n"
     ]
    }
   ],
   "source": [
    "#append\n",
    "Cats.append('Cougar')\n"
   ]
  },
  {
   "cell_type": "code",
   "execution_count": 89,
   "id": "e858a50b",
   "metadata": {},
   "outputs": [
    {
     "data": {
      "text/plain": [
       "'Cougar'"
      ]
     },
     "execution_count": 89,
     "metadata": {},
     "output_type": "execute_result"
    }
   ],
   "source": [
    "#Pop\n",
    "Cats.pop(7)"
   ]
  },
  {
   "cell_type": "code",
   "execution_count": 90,
   "id": "3ee67f80",
   "metadata": {},
   "outputs": [
    {
     "name": "stdout",
     "output_type": "stream",
     "text": [
      "['Pussy cat', 'Lion', 'Tiger', 'Jaguar', 'Leopard', 'Cheetah', 'Cougar']\n"
     ]
    }
   ],
   "source": [
    "print(Cats)"
   ]
  },
  {
   "cell_type": "code",
   "execution_count": 95,
   "id": "7e95f5fd",
   "metadata": {},
   "outputs": [
    {
     "name": "stdout",
     "output_type": "stream",
     "text": [
      "['Steal', 'like', 'an', 'Artist']\n"
     ]
    }
   ],
   "source": [
    "#Converting a string to a List\n",
    "Books = 'Steal like an Artist'\n",
    "Books2= Books.split()\n",
    "print(Books2)"
   ]
  },
  {
   "cell_type": "markdown",
   "id": "1ff13418",
   "metadata": {},
   "source": [
    "## Tuple"
   ]
  },
  {
   "cell_type": "code",
   "execution_count": 96,
   "id": "89295d50",
   "metadata": {},
   "outputs": [
    {
     "name": "stdout",
     "output_type": "stream",
     "text": [
      "('Human', 'Goat', 'Ape', 'Cow', 'Monkey', 'Deer')\n"
     ]
    }
   ],
   "source": [
    "Mammals = ('Human', 'Goat', 'Ape','Cow', 'Monkey','Deer')\n",
    "print(Mammals)"
   ]
  },
  {
   "cell_type": "markdown",
   "id": "c79aecbb",
   "metadata": {},
   "source": [
    "## Dictionary"
   ]
  },
  {
   "cell_type": "code",
   "execution_count": 98,
   "id": "4bfa906e",
   "metadata": {},
   "outputs": [
    {
     "name": "stdout",
     "output_type": "stream",
     "text": [
      "{'Ada': 28, 'Chisom': 23, 'Nzube': 25, 'Akinola': 30, 'Haneefa': 26}\n"
     ]
    }
   ],
   "source": [
    "Students = {'Ada': 28, 'Chisom':23, 'Nzube':25, 'Akinola':30, 'Haneefa':26}\n",
    "print(Students)"
   ]
  },
  {
   "cell_type": "code",
   "execution_count": 101,
   "id": "aa4d195f",
   "metadata": {},
   "outputs": [
    {
     "data": {
      "text/plain": [
       "dict_keys(['Ada', 'Chisom', 'Nzube', 'Akinola', 'Haneefa'])"
      ]
     },
     "execution_count": 101,
     "metadata": {},
     "output_type": "execute_result"
    }
   ],
   "source": [
    "#To get the keys in a Dictionary \n",
    "Students.keys()"
   ]
  },
  {
   "cell_type": "code",
   "execution_count": 102,
   "id": "ddfb9e75",
   "metadata": {},
   "outputs": [
    {
     "data": {
      "text/plain": [
       "dict_values([28, 23, 25, 30, 26])"
      ]
     },
     "execution_count": 102,
     "metadata": {},
     "output_type": "execute_result"
    }
   ],
   "source": [
    "#To get the values in a Dictionary \n",
    "Students.values()"
   ]
  },
  {
   "cell_type": "code",
   "execution_count": 4,
   "id": "86c76746",
   "metadata": {},
   "outputs": [
    {
     "name": "stdout",
     "output_type": "stream",
     "text": [
      "6550\n"
     ]
    }
   ],
   "source": [
    "#To sum the values in a dictionary\n",
    "Item_price = {'Chicken':2000, 'Bread':650,'ChinChin':650, 'Groundnut':750, 'Milo':2500}\n",
    "Price = Item_price.values()\n",
    "Total = sum(Price)\n",
    "print(Total)"
   ]
  },
  {
   "cell_type": "markdown",
   "id": "f5902a07",
   "metadata": {},
   "source": [
    "## Set"
   ]
  },
  {
   "cell_type": "code",
   "execution_count": 10,
   "id": "e38fc96c",
   "metadata": {},
   "outputs": [
    {
     "name": "stdout",
     "output_type": "stream",
     "text": [
      "{'Dave', 'Jon', 'Paul', 'Charlie', 'Ken'}\n"
     ]
    },
    {
     "data": {
      "text/plain": [
       "set"
      ]
     },
     "execution_count": 10,
     "metadata": {},
     "output_type": "execute_result"
    }
   ],
   "source": [
    "#A set only print unique elements\n",
    "Name_of_men = {'Ken', 'Jon','Jon', 'Charlie', 'Dave', 'Paul'}\n",
    "print(Name_of_men)\n",
    "type(Name_of_men)"
   ]
  },
  {
   "cell_type": "code",
   "execution_count": 21,
   "id": "737fb0fb",
   "metadata": {},
   "outputs": [
    {
     "name": "stdout",
     "output_type": "stream",
     "text": [
      "{'Dove', 'Eagle', 'Pigeon', 'Parrot', 'Kite'}\n"
     ]
    }
   ],
   "source": [
    "#Convert a List to a Set by using the function 'set'\n",
    "Birds = set (['Eagle', 'Kite', 'Dove', 'Pigeon', 'Parrot'])\n",
    "print(Birds)"
   ]
  },
  {
   "cell_type": "code",
   "execution_count": 43,
   "id": "1d0e2a2c",
   "metadata": {},
   "outputs": [
    {
     "name": "stdout",
     "output_type": "stream",
     "text": [
      "{'Dove', 'Eagle', 'Ant', 'Hen', 'Pigeon', 'Cock', 'Parrot', 'Kite'}\n"
     ]
    }
   ],
   "source": [
    "#To add an element to a set we use the add method\n",
    "Birds.add('Ant')\n",
    "print(Birds)"
   ]
  },
  {
   "cell_type": "code",
   "execution_count": 44,
   "id": "880c070e",
   "metadata": {},
   "outputs": [
    {
     "name": "stdout",
     "output_type": "stream",
     "text": [
      "{'Dove', 'Eagle', 'Hen', 'Pigeon', 'Cock', 'Parrot', 'Kite'}\n"
     ]
    }
   ],
   "source": [
    "#To remove an element from a Set we use the remove method\n",
    "Birds.remove(\"Ant\")\n",
    "print(Birds)"
   ]
  },
  {
   "cell_type": "code",
   "execution_count": 45,
   "id": "7b07f9c1",
   "metadata": {},
   "outputs": [
    {
     "data": {
      "text/plain": [
       "True"
      ]
     },
     "execution_count": 45,
     "metadata": {},
     "output_type": "execute_result"
    }
   ],
   "source": [
    "#To verify if an element is in a set\n",
    "'Eagle' in Birds"
   ]
  },
  {
   "cell_type": "code",
   "execution_count": 46,
   "id": "ecefe491",
   "metadata": {},
   "outputs": [
    {
     "data": {
      "text/plain": [
       "False"
      ]
     },
     "execution_count": 46,
     "metadata": {},
     "output_type": "execute_result"
    }
   ],
   "source": [
    "\"Ant\" in Birds"
   ]
  },
  {
   "cell_type": "code",
   "execution_count": 49,
   "id": "8fb16da8",
   "metadata": {},
   "outputs": [
    {
     "name": "stdout",
     "output_type": "stream",
     "text": [
      "{'Dove', 'Ostrich', 'Eagle', 'Hen', 'Pigeon', 'Sparrow', 'Duck', 'Cock', 'Parrot', 'Kite'}\n"
     ]
    }
   ],
   "source": [
    "#To get elements in two different sets\n",
    "All_birds = Birds.union(Birds_2)\n",
    "print(All_birds)"
   ]
  },
  {
   "cell_type": "code",
   "execution_count": 51,
   "id": "e0e5bf41",
   "metadata": {},
   "outputs": [
    {
     "name": "stdout",
     "output_type": "stream",
     "text": [
      "True\n"
     ]
    }
   ],
   "source": [
    "#To know if a set is a sub set of another set\n",
    "sets = Birds.issubset(All_birds)\n",
    "print(sets)"
   ]
  }
 ],
 "metadata": {
  "kernelspec": {
   "display_name": "Python 3 (ipykernel)",
   "language": "python",
   "name": "python3"
  },
  "language_info": {
   "codemirror_mode": {
    "name": "ipython",
    "version": 3
   },
   "file_extension": ".py",
   "mimetype": "text/x-python",
   "name": "python",
   "nbconvert_exporter": "python",
   "pygments_lexer": "ipython3",
   "version": "3.9.12"
  }
 },
 "nbformat": 4,
 "nbformat_minor": 5
}
