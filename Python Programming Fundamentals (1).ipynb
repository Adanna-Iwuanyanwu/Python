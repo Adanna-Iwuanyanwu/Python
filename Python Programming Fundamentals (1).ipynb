{
 "cells": [
  {
   "cell_type": "markdown",
   "id": "79925088",
   "metadata": {},
   "source": [
    "## Branching"
   ]
  },
  {
   "cell_type": "code",
   "execution_count": 8,
   "id": "3590dbad",
   "metadata": {},
   "outputs": [
    {
     "name": "stdout",
     "output_type": "stream",
     "text": [
      "You are young\n",
      "Enjoy life while at it\n"
     ]
    }
   ],
   "source": [
    "#Branching is used to run different statements for different input\n",
    "Age = 28\n",
    "if (Age > 28):\n",
    "    print('you are getting old')\n",
    "else:\n",
    "    print('You are young')\n",
    "    print('Enjoy life while at it')"
   ]
  },
  {
   "cell_type": "code",
   "execution_count": 18,
   "id": "1e3c1739",
   "metadata": {},
   "outputs": [
    {
     "name": "stdout",
     "output_type": "stream",
     "text": [
      "you are getting old\n"
     ]
    }
   ],
   "source": [
    "#elif is short for else if. It is used to check additional condition\n",
    "#When the if condition is True and elif condition is false, the if condition runs\n",
    "Age = 28\n",
    "if (Age == 28):\n",
    "    print('you are getting old')\n",
    "elif(Age < 28):\n",
    "    print('You are young')\n",
    "else:\n",
    "    print('Enjoy life while at it')"
   ]
  },
  {
   "cell_type": "code",
   "execution_count": 19,
   "id": "fa577f45",
   "metadata": {},
   "outputs": [
    {
     "name": "stdout",
     "output_type": "stream",
     "text": [
      "You are young\n"
     ]
    }
   ],
   "source": [
    "#When the if condition is false and elif condition is True, the elif condition runs\n",
    "Age = 28\n",
    "if (Age > 28):\n",
    "    print('you are getting old')\n",
    "elif(Age == 28):\n",
    "    print('You are young')\n",
    "else:\n",
    "    print('Enjoy life while at it')"
   ]
  },
  {
   "cell_type": "code",
   "execution_count": 22,
   "id": "b56bb13e",
   "metadata": {},
   "outputs": [
    {
     "name": "stdout",
     "output_type": "stream",
     "text": [
      "Enjoy life while at it\n"
     ]
    }
   ],
   "source": [
    "#When the if condition and elif condition are false, the else condition runs\n",
    "Age = 28\n",
    "if (Age != 28):\n",
    "    print('you are getting old')\n",
    "elif(Age < 28):\n",
    "    print('You are young')\n",
    "else:\n",
    "    print('Enjoy life while at it')"
   ]
  },
  {
   "cell_type": "markdown",
   "id": "b8669af7",
   "metadata": {},
   "source": [
    "##  OR Operator"
   ]
  },
  {
   "cell_type": "code",
   "execution_count": 24,
   "id": "043fa1ec",
   "metadata": {},
   "outputs": [
    {
     "name": "stdout",
     "output_type": "stream",
     "text": [
      "The year of birth is in the 90's or 80's\n"
     ]
    }
   ],
   "source": [
    "Birth_year = 1994\n",
    "if(Birth_year < 1980) or (Birth_year > 1989):\n",
    "    print(\"The year of birth is in the 90's or 80's\")\n",
    "else:\n",
    "    print(\"The year of birth is in the 1980's\")"
   ]
  },
  {
   "cell_type": "markdown",
   "id": "8af41072",
   "metadata": {},
   "source": [
    "## AND Operator"
   ]
  },
  {
   "cell_type": "code",
   "execution_count": 37,
   "id": "7108e62e",
   "metadata": {},
   "outputs": [
    {
     "name": "stdout",
     "output_type": "stream",
     "text": [
      "The year of birth is in the 1980's\n"
     ]
    }
   ],
   "source": [
    "Birth_year = 1994\n",
    "if(Birth_year < 1980) and (Birth_year > 1989):\n",
    "    print(\"The year of birth is in the 90's or 80's\")\n",
    "else:\n",
    "    print(\"The year of birth is in the 1980's\")"
   ]
  },
  {
   "cell_type": "markdown",
   "id": "44404f1b",
   "metadata": {},
   "source": [
    "## LOOP"
   ]
  },
  {
   "cell_type": "markdown",
   "id": "f1bb8932",
   "metadata": {},
   "source": [
    "## The For Loop"
   ]
  },
  {
   "cell_type": "markdown",
   "id": "77779bdb",
   "metadata": {},
   "source": [
    "# Loop performs a task over and over again or execute statement multiple times."
   ]
  },
  {
   "cell_type": "code",
   "execution_count": 2,
   "id": "42afd38a",
   "metadata": {},
   "outputs": [
    {
     "name": "stdout",
     "output_type": "stream",
     "text": [
      "3\n",
      "4\n",
      "5\n",
      "6\n"
     ]
    }
   ],
   "source": [
    "#Using range function to illustrate for loop\n",
    "tag = range(3,7)\n",
    "for t in tag:\n",
    "    print(t)"
   ]
  },
  {
   "cell_type": "code",
   "execution_count": 48,
   "id": "10dcae70",
   "metadata": {},
   "outputs": [
    {
     "name": "stdout",
     "output_type": "stream",
     "text": [
      "0\n",
      "1\n",
      "2\n",
      "3\n"
     ]
    }
   ],
   "source": [
    "#Iterating data using enumerate\n",
    "tag = range(3,7)\n",
    "for i, tag in enumerate (tag):\n",
    "    print(i)"
   ]
  },
  {
   "cell_type": "code",
   "execution_count": 8,
   "id": "26c25564",
   "metadata": {},
   "outputs": [
    {
     "name": "stdout",
     "output_type": "stream",
     "text": [
      "1\n",
      "2\n",
      "3\n",
      "4\n",
      "5\n",
      "6\n",
      "7\n",
      "8\n",
      "9\n",
      "10\n"
     ]
    }
   ],
   "source": [
    "#Print the 10 natural number\n",
    "num = range(1,11)\n",
    "for n in num:\n",
    "    print(n)"
   ]
  },
  {
   "cell_type": "code",
   "execution_count": 13,
   "id": "7de46204",
   "metadata": {},
   "outputs": [
    {
     "name": "stdout",
     "output_type": "stream",
     "text": [
      "circle\n",
      "triangle\n",
      "square\n"
     ]
    }
   ],
   "source": [
    "#Iterating over a sequence is called transversal\n",
    "#Iterating over a List\n",
    "shapes = ['circle', 'triangle', 'square']\n",
    "for s in shapes:\n",
    "    print(s)"
   ]
  },
  {
   "cell_type": "code",
   "execution_count": 5,
   "id": "991271d3",
   "metadata": {},
   "outputs": [
    {
     "name": "stdout",
     "output_type": "stream",
     "text": [
      "C\n",
      "h\n",
      "i\n",
      "n\n",
      "o\n",
      "n\n",
      "s\n",
      "o\n"
     ]
    }
   ],
   "source": [
    "#Iterating over a string\n",
    "x = 'Chinonso'\n",
    "for i in x :\n",
    "    print(i)"
   ]
  },
  {
   "cell_type": "code",
   "execution_count": 15,
   "id": "6a085ba1",
   "metadata": {},
   "outputs": [
    {
     "name": "stdout",
     "output_type": "stream",
     "text": [
      "hut\n",
      "bungalow\n",
      "duplex\n"
     ]
    }
   ],
   "source": [
    "#Iterating over a tuple\n",
    "houses = ('hut', 'bungalow', 'duplex')\n",
    "for h in houses:\n",
    "    print(h)"
   ]
  },
  {
   "cell_type": "code",
   "execution_count": 17,
   "id": "7e421e24",
   "metadata": {},
   "outputs": [
    {
     "name": "stdout",
     "output_type": "stream",
     "text": [
      "Ada  28\n",
      "Efe  52\n",
      "Dave  38\n",
      "Jane  35\n"
     ]
    }
   ],
   "source": [
    "#Iterating over a dictionary\n",
    "people = {'Ada':28, 'Efe':52, 'Dave':38, 'Jane':35}\n",
    "for p in people:\n",
    "    print('%s  %d' %(p, people[p]))"
   ]
  },
  {
   "cell_type": "code",
   "execution_count": 23,
   "id": "5efcff7b",
   "metadata": {},
   "outputs": [
    {
     "name": "stdout",
     "output_type": "stream",
     "text": [
      "Doris 20\n",
      "Tega 34\n",
      "Ebuka 30\n",
      "Juliet 39\n"
     ]
    }
   ],
   "source": [
    "#Iterating over a dictionary---2\n",
    "ages = {'Doris':20, 'Tega':34, 'Ebuka':30, 'Juliet':39}\n",
    "for name in ages.keys():\n",
    "    print(name,ages[name])"
   ]
  },
  {
   "cell_type": "code",
   "execution_count": 19,
   "id": "f6f7daaf",
   "metadata": {},
   "outputs": [
    {
     "name": "stdout",
     "output_type": "stream",
     "text": [
      "iphone\n",
      "samsung\n",
      "nokia\n"
     ]
    }
   ],
   "source": [
    "#Iterating over a set\n",
    "phones = {'samsung', 'iphone', 'nokia'}\n",
    "for p in phones:\n",
    "    print(p)"
   ]
  },
  {
   "cell_type": "code",
   "execution_count": 25,
   "id": "898cc5be",
   "metadata": {},
   "outputs": [
    {
     "name": "stdout",
     "output_type": "stream",
     "text": [
      "0\n",
      "3\n",
      "6\n",
      "9\n",
      "12\n",
      "15\n"
     ]
    }
   ],
   "source": [
    "#The for loop is usually set using the python range function. The range(start, stop, step)\n",
    "n = 16\n",
    "for i in range(0,16,3):\n",
    "    print(i)"
   ]
  },
  {
   "cell_type": "code",
   "execution_count": 6,
   "id": "650cc959",
   "metadata": {},
   "outputs": [
    {
     "name": "stdout",
     "output_type": "stream",
     "text": [
      "Orange\n"
     ]
    }
   ],
   "source": [
    "#the break statement stops the loop before it loops through the items. \n",
    "#Writing the break without a condition prints the first item in the list\n",
    "fruits = ['Orange', 'Apple', 'Guava']\n",
    "for f in fruits:\n",
    "    print(f)\n",
    "    break"
   ]
  },
  {
   "cell_type": "code",
   "execution_count": 8,
   "id": "2b929aba",
   "metadata": {},
   "outputs": [
    {
     "name": "stdout",
     "output_type": "stream",
     "text": [
      "Orange\n",
      "Apple\n"
     ]
    }
   ],
   "source": [
    "#Writing the break with a condition prints the condition in the list and stops.\n",
    "fruits = ['Orange', 'Apple', 'Guava']\n",
    "for f in fruits:\n",
    "    print(f)\n",
    "    if f == 'Apple':\n",
    "        break"
   ]
  },
  {
   "cell_type": "code",
   "execution_count": 3,
   "id": "7b6329c0",
   "metadata": {},
   "outputs": [
    {
     "name": "stdout",
     "output_type": "stream",
     "text": [
      "Orange\n",
      "Apple\n"
     ]
    }
   ],
   "source": [
    "#Writing a condition before the break statement, prints the items before the condition in the list and stop.\n",
    "fruits = ['Orange', 'Apple', 'Guava']\n",
    "for x in fruits:\n",
    "    if x == \"Guava\":\n",
    "        break\n",
    "    print(x)"
   ]
  },
  {
   "cell_type": "markdown",
   "id": "6f494eb7",
   "metadata": {},
   "source": [
    "## The While Loop"
   ]
  },
  {
   "cell_type": "code",
   "execution_count": 4,
   "id": "da99e80f",
   "metadata": {},
   "outputs": [
    {
     "name": "stdout",
     "output_type": "stream",
     "text": [
      "I love python\n",
      "I love python\n",
      "I love python\n"
     ]
    }
   ],
   "source": [
    "#A while loop only runs if a condition is True.\n",
    "d = 1\n",
    "while d < 4:\n",
    "    print('I love python')\n",
    "    d = d + 1"
   ]
  },
  {
   "cell_type": "code",
   "execution_count": 9,
   "id": "b95f5dfb",
   "metadata": {},
   "outputs": [
    {
     "name": "stdout",
     "output_type": "stream",
     "text": [
      "1\n",
      "2\n",
      "3\n",
      "4\n",
      "5\n",
      "6\n",
      "7\n"
     ]
    }
   ],
   "source": [
    "z = [2,4,6,8]\n",
    "i = 1\n",
    "while i < 8:\n",
    "    print(i)\n",
    "    i = i + 1"
   ]
  },
  {
   "cell_type": "code",
   "execution_count": 3,
   "id": "06c460ee",
   "metadata": {},
   "outputs": [
    {
     "name": "stdout",
     "output_type": "stream",
     "text": [
      "2\n",
      "4\n",
      "6\n"
     ]
    }
   ],
   "source": [
    "z = [2,4,6,8]\n",
    "i = 2\n",
    "while i < 8:\n",
    "    print(i)\n",
    "    i = i + 2"
   ]
  },
  {
   "cell_type": "markdown",
   "id": "1c726edd",
   "metadata": {},
   "source": [
    "## FUNCTIONS"
   ]
  },
  {
   "cell_type": "markdown",
   "id": "8cfd598f",
   "metadata": {},
   "source": [
    "## A function takes an input and produce some output or change. It is a piece of code that can be reused."
   ]
  },
  {
   "cell_type": "code",
   "execution_count": 4,
   "id": "74196b2e",
   "metadata": {},
   "outputs": [
    {
     "name": "stdout",
     "output_type": "stream",
     "text": [
      "Okra Soup\n"
     ]
    }
   ],
   "source": [
    "#To create a function, we define it using def\n",
    "def Soup():\n",
    "    print('Okra Soup')\n",
    "Soup()"
   ]
  },
  {
   "cell_type": "code",
   "execution_count": 34,
   "id": "bec82aee",
   "metadata": {},
   "outputs": [
    {
     "name": "stdout",
     "output_type": "stream",
     "text": [
      "Adanna  Iwuanyanwu\n",
      "Chisom  Iwuanyanwu\n",
      "Chibueze  Iwuanyanwu\n",
      "Uzochukwu  Iwuanyanwu\n"
     ]
    }
   ],
   "source": [
    "#An Argument is specified inside the parentheses of a function. Many arguments can be added into the parentheses, ensure they are separate with a comma.\n",
    "def name(fname):\n",
    "    print(fname, \" \" 'Iwuanyanwu')\n",
    "name('Adanna')\n",
    "name('Chisom')\n",
    "name('Chibueze')\n",
    "name('Uzochukwu')"
   ]
  },
  {
   "cell_type": "code",
   "execution_count": 39,
   "id": "ff43498f",
   "metadata": {},
   "outputs": [
    {
     "name": "stdout",
     "output_type": "stream",
     "text": [
      "The child is Onyinye\n"
     ]
    }
   ],
   "source": [
    "#When the number of arguments is not known, an * is added before the parameter(item in the parentheses)\n",
    "def child(*kids):\n",
    "    print(\"The child is \" + kids[1])\n",
    "child(\"Ada\", \"Onyinye\", \"Amara\")"
   ]
  },
  {
   "cell_type": "code",
   "execution_count": 44,
   "id": "1e58493b",
   "metadata": {},
   "outputs": [
    {
     "name": "stdout",
     "output_type": "stream",
     "text": [
      "The child is Ada\n"
     ]
    }
   ],
   "source": [
    "#A fucntion can contain more than 2 items in the parameter.\n",
    "def child(child1, child2, child3):\n",
    "    print(\"The child is \" + child1)\n",
    "child(child1 = \"Ada\", child2 = \"Onyinye\", child3 = \"Amara\")"
   ]
  },
  {
   "cell_type": "code",
   "execution_count": 46,
   "id": "7948860d",
   "metadata": {},
   "outputs": [
    {
     "name": "stdout",
     "output_type": "stream",
     "text": [
      "I am from Nigeria\n",
      "I am from Canada\n"
     ]
    }
   ],
   "source": [
    "#When a function is called without an argument, it uses the default value\n",
    "def nationality(country = \"Nigeria\"):\n",
    "    print(\"I am from \" + country)\n",
    "nationality()\n",
    "nationality('Canada')"
   ]
  },
  {
   "cell_type": "code",
   "execution_count": 97,
   "id": "ca4892e8",
   "metadata": {},
   "outputs": [
    {
     "name": "stdout",
     "output_type": "stream",
     "text": [
      "Red wine\n",
      "White Wine\n",
      "Soda\n"
     ]
    }
   ],
   "source": [
    "#Loop can be used in function, and different data types can be used as the argument of a function\n",
    "#Using tuple data type\n",
    "def drink(wine):\n",
    "    for w in wine:\n",
    "        print(w)\n",
    "wine = ('Red wine', 'White Wine', 'Soda')\n",
    "drink(wine)"
   ]
  },
  {
   "cell_type": "code",
   "execution_count": 106,
   "id": "999507ed",
   "metadata": {},
   "outputs": [
    {
     "name": "stdout",
     "output_type": "stream",
     "text": [
      "Orange\n",
      "Apple\n",
      "Guava\n"
     ]
    }
   ],
   "source": [
    "#Using List data types\n",
    "def food(fruits):\n",
    "    for f in fruits:\n",
    "        print(f)\n",
    "fruits = ['Orange', 'Apple', 'Guava']\n",
    "food(fruits)"
   ]
  },
  {
   "cell_type": "code",
   "execution_count": 74,
   "id": "5527d607",
   "metadata": {},
   "outputs": [
    {
     "data": {
      "text/plain": [
       "10"
      ]
     },
     "execution_count": 74,
     "metadata": {},
     "output_type": "execute_result"
    }
   ],
   "source": [
    "#Function to find the product of numbers\n",
    "def prac_(x):\n",
    "    return 5 * x\n",
    "prac_(2)"
   ]
  },
  {
   "cell_type": "code",
   "execution_count": 93,
   "id": "a8f393fd",
   "metadata": {},
   "outputs": [
    {
     "data": {
      "text/plain": [
       "15"
      ]
     },
     "execution_count": 93,
     "metadata": {},
     "output_type": "execute_result"
    }
   ],
   "source": [
    "#Function with multiple parameters to find the product of numbers \n",
    "def mult(a,b):\n",
    "    c = 3*5\n",
    "    return c\n",
    "mult(3,5)"
   ]
  },
  {
   "cell_type": "code",
   "execution_count": 94,
   "id": "c195f23f",
   "metadata": {},
   "outputs": [
    {
     "data": {
      "text/plain": [
       "'michaelmichael'"
      ]
     },
     "execution_count": 94,
     "metadata": {},
     "output_type": "execute_result"
    }
   ],
   "source": [
    "#Function with multiple parameters to return a string twice\n",
    "def mult(d,e):\n",
    "    f = 2 * \"michael\"\n",
    "    return f\n",
    "mult(2,\"Michael\")"
   ]
  },
  {
   "cell_type": "code",
   "execution_count": 103,
   "id": "d17ffbd9",
   "metadata": {},
   "outputs": [
    {
     "data": {
      "text/plain": [
       "27.2"
      ]
     },
     "execution_count": 103,
     "metadata": {},
     "output_type": "execute_result"
    }
   ],
   "source": [
    "#Function with multiple parameters to find the product of an integer and a float\n",
    "def mult(g,h):\n",
    "    i = 4*6.8\n",
    "    return i\n",
    "mult(4,6.8)"
   ]
  },
  {
   "cell_type": "code",
   "execution_count": 92,
   "id": "e015e50b",
   "metadata": {},
   "outputs": [
    {
     "name": "stdout",
     "output_type": "stream",
     "text": [
      "None\n"
     ]
    }
   ],
   "source": [
    "#A function cannot be empty put a pass statement to avoid getting an error.\n",
    "def Noshow():\n",
    "    pass\n",
    "print(Noshow())"
   ]
  },
  {
   "cell_type": "markdown",
   "id": "4e1901c3",
   "metadata": {},
   "source": [
    "## Exception Handling"
   ]
  },
  {
   "cell_type": "markdown",
   "id": "2fe995f9",
   "metadata": {},
   "source": [
    "# Exception handling uses the Try---Except Statement. This type of statement attempts to execute the code in the Try block. If an error occurs, it kicks out and look for an exception that matches the error. The Except block handles the error. The Else statement is added to give a notification if the code runs successfully or not. The Finally statement is added to tell the program to close the file no matter the end result. "
   ]
  },
  {
   "cell_type": "code",
   "execution_count": 1,
   "id": "73aa52a4",
   "metadata": {},
   "outputs": [
    {
     "name": "stdout",
     "output_type": "stream",
     "text": [
      "Wrong\n"
     ]
    }
   ],
   "source": [
    "#The Try---Except block. The Try block is wrong because a string cannot divde an integer so the Exception block runs.\n",
    "try:\n",
    "    x = 8\n",
    "    z = '2'\n",
    "    print(x/z)\n",
    "except:\n",
    "    print('Wrong')"
   ]
  },
  {
   "cell_type": "code",
   "execution_count": 5,
   "id": "e2bc9ca2",
   "metadata": {},
   "outputs": [
    {
     "name": "stdout",
     "output_type": "stream",
     "text": [
      "2\n"
     ]
    }
   ],
   "source": [
    "#The Try block is correct so it will run.\n",
    "try:\n",
    "    b = 10\n",
    "    c = 5\n",
    "    print(b//c)\n",
    "except:\n",
    "    print('Lets see')"
   ]
  },
  {
   "cell_type": "code",
   "execution_count": 10,
   "id": "9bb1b1d6",
   "metadata": {},
   "outputs": [
    {
     "name": "stdout",
     "output_type": "stream",
     "text": [
      "5\n"
     ]
    }
   ],
   "source": [
    "#The Try block is wrong because a string cannot divde an integer. The variable 'd' was reassigned an integer value so the Exception block runs.\n",
    "try:\n",
    "    b = 10\n",
    "    d = '5'\n",
    "    print(b/d)\n",
    "except:\n",
    "    d = 2\n",
    "    print(b//d)"
   ]
  },
  {
   "cell_type": "code",
   "execution_count": 23,
   "id": "1d52e2b0",
   "metadata": {},
   "outputs": [
    {
     "name": "stdout",
     "output_type": "stream",
     "text": [
      "5\n",
      "Nice One\n"
     ]
    }
   ],
   "source": [
    "#The Try block is correct it executes and the else statement notifies that the code ran successfully.\n",
    "try:\n",
    "    y = 15\n",
    "    w = 3\n",
    "    print(y//w)\n",
    "except:\n",
    "    print('Error')\n",
    "else:\n",
    "    print('Nice One')"
   ]
  },
  {
   "cell_type": "code",
   "execution_count": 25,
   "id": "5bd3da7f",
   "metadata": {},
   "outputs": [
    {
     "name": "stdout",
     "output_type": "stream",
     "text": [
      "5\n",
      "0\n",
      "End\n"
     ]
    }
   ],
   "source": [
    "#The finally statement runs no matter the end result\n",
    "try:\n",
    "    y = 15\n",
    "    w = 3\n",
    "    print(y//w)\n",
    "except:\n",
    "    print('Error')\n",
    "else:\n",
    "    print(3//15)\n",
    "finally:\n",
    "    print('End')"
   ]
  },
  {
   "cell_type": "markdown",
   "id": "d98782a0",
   "metadata": {},
   "source": [
    "## Object and Classes"
   ]
  },
  {
   "cell_type": "markdown",
   "id": "395c5f6a",
   "metadata": {},
   "source": [
    "# In Python a class can be defined using the keyword class. An object is an instance of a particular type. "
   ]
  },
  {
   "cell_type": "code",
   "execution_count": 2,
   "id": "b6b74c0b",
   "metadata": {},
   "outputs": [
    {
     "name": "stdout",
     "output_type": "stream",
     "text": [
      "<class '__main__.finger'>\n"
     ]
    }
   ],
   "source": [
    "#Creating a Class.The pass keyword is used because the class is empty\n",
    "class finger:\n",
    "    pass\n",
    "print(finger)"
   ]
  },
  {
   "cell_type": "code",
   "execution_count": 16,
   "id": "20bd7d13",
   "metadata": {},
   "outputs": [
    {
     "name": "stdout",
     "output_type": "stream",
     "text": [
      "('Girls', 'Boys')\n"
     ]
    }
   ],
   "source": [
    "#Create a class with its property having a variable x.\n",
    "class students:\n",
    "    x = ('Girls', 'Boys')\n",
    "    \n",
    "    \n",
    "#Create an object named after the class created, and print.\n",
    "humans = students()\n",
    "\n",
    "print(humans.x)"
   ]
  },
  {
   "cell_type": "code",
   "execution_count": 13,
   "id": "adde9017",
   "metadata": {},
   "outputs": [
    {
     "name": "stdout",
     "output_type": "stream",
     "text": [
      "Adanna\n",
      "28\n"
     ]
    }
   ],
   "source": [
    "#Using the __init__ constructor\n",
    "class family:\n",
    "    def __init__(self, name, age):\n",
    "        self.name = name\n",
    "        self.age = age\n",
    "        \n",
    "familia = family('Adanna', 28)\n",
    "\n",
    "print(familia.name)\n",
    "print(familia.age)"
   ]
  },
  {
   "cell_type": "code",
   "execution_count": 26,
   "id": "bb5127b5",
   "metadata": {},
   "outputs": [
    {
     "name": "stdout",
     "output_type": "stream",
     "text": [
      "Adanna(28)\n"
     ]
    }
   ],
   "source": [
    "#The __str__() function\n",
    "class family:\n",
    "    def __init__(self, name, age):\n",
    "        self.name = name\n",
    "        self.age = age\n",
    "        \n",
    "    def __str__(self):\n",
    "        return f\"{self.name}({self.age})\"\n",
    "\n",
    "familia = family('Adanna', 28)\n",
    "\n",
    "print(familia)"
   ]
  },
  {
   "cell_type": "code",
   "execution_count": 13,
   "id": "b70d9f93",
   "metadata": {},
   "outputs": [
    {
     "name": "stdout",
     "output_type": "stream",
     "text": [
      "I'm Adanna\n"
     ]
    }
   ],
   "source": [
    "#Creating a function in a class\n",
    "class family:\n",
    "    def __init__(self, name, age):\n",
    "        self.name = name\n",
    "        self.age = age\n",
    "        \n",
    "    def she(self):\n",
    "        print(\"I'm \" + self.name)\n",
    "\n",
    "familia = family('Adanna', 28)\n",
    "\n",
    "familia.she()"
   ]
  },
  {
   "cell_type": "code",
   "execution_count": 15,
   "id": "e4f943a2",
   "metadata": {},
   "outputs": [
    {
     "name": "stdout",
     "output_type": "stream",
     "text": [
      "I'm Adanna\n"
     ]
    }
   ],
   "source": [
    "#Creating an inheritance\n",
    "class myself(family):\n",
    "    pass\n",
    "\n",
    "familia = family('Adanna', 28)\n",
    "\n",
    "familia.she()"
   ]
  },
  {
   "cell_type": "code",
   "execution_count": null,
   "id": "7851ee1a",
   "metadata": {},
   "outputs": [],
   "source": []
  }
 ],
 "metadata": {
  "kernelspec": {
   "display_name": "Python 3 (ipykernel)",
   "language": "python",
   "name": "python3"
  },
  "language_info": {
   "codemirror_mode": {
    "name": "ipython",
    "version": 3
   },
   "file_extension": ".py",
   "mimetype": "text/x-python",
   "name": "python",
   "nbconvert_exporter": "python",
   "pygments_lexer": "ipython3",
   "version": "3.9.12"
  }
 },
 "nbformat": 4,
 "nbformat_minor": 5
}
