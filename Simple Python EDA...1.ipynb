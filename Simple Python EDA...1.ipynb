{
 "cells": [
  {
   "cell_type": "code",
   "execution_count": 4,
   "id": "e040321a",
   "metadata": {},
   "outputs": [],
   "source": [
    "#Import libraries\n",
    "\n",
    "import pandas as pd\n",
    "import numpy as np"
   ]
  },
  {
   "cell_type": "code",
   "execution_count": 5,
   "id": "88091cff",
   "metadata": {},
   "outputs": [
    {
     "data": {
      "text/html": [
       "<div>\n",
       "<style scoped>\n",
       "    .dataframe tbody tr th:only-of-type {\n",
       "        vertical-align: middle;\n",
       "    }\n",
       "\n",
       "    .dataframe tbody tr th {\n",
       "        vertical-align: top;\n",
       "    }\n",
       "\n",
       "    .dataframe thead th {\n",
       "        text-align: right;\n",
       "    }\n",
       "</style>\n",
       "<table border=\"1\" class=\"dataframe\">\n",
       "  <thead>\n",
       "    <tr style=\"text-align: right;\">\n",
       "      <th></th>\n",
       "      <th>ID</th>\n",
       "      <th>COURSE_UNIT</th>\n",
       "      <th>COURSE_CODE</th>\n",
       "      <th>COURSE_TITLE</th>\n",
       "      <th>SCORE</th>\n",
       "      <th>GRADE</th>\n",
       "      <th>GRADE_VALUE</th>\n",
       "      <th>GPA</th>\n",
       "    </tr>\n",
       "  </thead>\n",
       "  <tbody>\n",
       "    <tr>\n",
       "      <th>0</th>\n",
       "      <td>1</td>\n",
       "      <td>3</td>\n",
       "      <td>SPH 708.1</td>\n",
       "      <td>Human Ecology</td>\n",
       "      <td>72.500</td>\n",
       "      <td>A</td>\n",
       "      <td>5</td>\n",
       "      <td>15</td>\n",
       "    </tr>\n",
       "    <tr>\n",
       "      <th>1</th>\n",
       "      <td>2</td>\n",
       "      <td>2</td>\n",
       "      <td>SPH 703.1</td>\n",
       "      <td>Health Laws and Ethics</td>\n",
       "      <td>78.760</td>\n",
       "      <td>A</td>\n",
       "      <td>5</td>\n",
       "      <td>10</td>\n",
       "    </tr>\n",
       "    <tr>\n",
       "      <th>2</th>\n",
       "      <td>3</td>\n",
       "      <td>2</td>\n",
       "      <td>SPH 701.1</td>\n",
       "      <td>History of Medicine and Public Health</td>\n",
       "      <td>70.850</td>\n",
       "      <td>A</td>\n",
       "      <td>5</td>\n",
       "      <td>10</td>\n",
       "    </tr>\n",
       "    <tr>\n",
       "      <th>3</th>\n",
       "      <td>4</td>\n",
       "      <td>2</td>\n",
       "      <td>SPH 734.2</td>\n",
       "      <td>ICT In Public Health</td>\n",
       "      <td>79.800</td>\n",
       "      <td>A</td>\n",
       "      <td>5</td>\n",
       "      <td>10</td>\n",
       "    </tr>\n",
       "    <tr>\n",
       "      <th>4</th>\n",
       "      <td>5</td>\n",
       "      <td>4</td>\n",
       "      <td>SPH 723.1</td>\n",
       "      <td>Introduction to Biostatistics</td>\n",
       "      <td>70.050</td>\n",
       "      <td>A</td>\n",
       "      <td>5</td>\n",
       "      <td>20</td>\n",
       "    </tr>\n",
       "    <tr>\n",
       "      <th>5</th>\n",
       "      <td>6</td>\n",
       "      <td>4</td>\n",
       "      <td>SPH 725.1</td>\n",
       "      <td>Introduction to Principles of Epidemiology</td>\n",
       "      <td>82.600</td>\n",
       "      <td>A</td>\n",
       "      <td>5</td>\n",
       "      <td>20</td>\n",
       "    </tr>\n",
       "    <tr>\n",
       "      <th>6</th>\n",
       "      <td>7</td>\n",
       "      <td>4</td>\n",
       "      <td>SPH 712.1</td>\n",
       "      <td>Public Health Methods</td>\n",
       "      <td>79.800</td>\n",
       "      <td>A</td>\n",
       "      <td>5</td>\n",
       "      <td>20</td>\n",
       "    </tr>\n",
       "    <tr>\n",
       "      <th>7</th>\n",
       "      <td>8</td>\n",
       "      <td>3</td>\n",
       "      <td>SPH 726.2</td>\n",
       "      <td>Healthcare In Nigeria</td>\n",
       "      <td>85.480</td>\n",
       "      <td>A</td>\n",
       "      <td>5</td>\n",
       "      <td>15</td>\n",
       "    </tr>\n",
       "    <tr>\n",
       "      <th>8</th>\n",
       "      <td>9</td>\n",
       "      <td>2</td>\n",
       "      <td>SPH 723.2</td>\n",
       "      <td>Fundamentals of Demography</td>\n",
       "      <td>65.800</td>\n",
       "      <td>B</td>\n",
       "      <td>4</td>\n",
       "      <td>8</td>\n",
       "    </tr>\n",
       "    <tr>\n",
       "      <th>9</th>\n",
       "      <td>10</td>\n",
       "      <td>2</td>\n",
       "      <td>SPH</td>\n",
       "      <td>Field Trip</td>\n",
       "      <td>73.333</td>\n",
       "      <td>A</td>\n",
       "      <td>5</td>\n",
       "      <td>10</td>\n",
       "    </tr>\n",
       "    <tr>\n",
       "      <th>10</th>\n",
       "      <td>11</td>\n",
       "      <td>2</td>\n",
       "      <td>SPH 742.2</td>\n",
       "      <td>Seminar</td>\n",
       "      <td>52.600</td>\n",
       "      <td>C</td>\n",
       "      <td>3</td>\n",
       "      <td>6</td>\n",
       "    </tr>\n",
       "  </tbody>\n",
       "</table>\n",
       "</div>"
      ],
      "text/plain": [
       "    ID  COURSE_UNIT COURSE_CODE                                COURSE_TITLE  \\\n",
       "0    1            3   SPH 708.1                               Human Ecology   \n",
       "1    2            2   SPH 703.1                      Health Laws and Ethics   \n",
       "2    3            2   SPH 701.1       History of Medicine and Public Health   \n",
       "3    4            2   SPH 734.2                        ICT In Public Health   \n",
       "4    5            4   SPH 723.1               Introduction to Biostatistics   \n",
       "5    6            4   SPH 725.1  Introduction to Principles of Epidemiology   \n",
       "6    7            4   SPH 712.1                       Public Health Methods   \n",
       "7    8            3   SPH 726.2                       Healthcare In Nigeria   \n",
       "8    9            2   SPH 723.2                  Fundamentals of Demography   \n",
       "9   10            2        SPH                                   Field Trip   \n",
       "10  11            2   SPH 742.2                                     Seminar   \n",
       "\n",
       "     SCORE GRADE  GRADE_VALUE  GPA  \n",
       "0   72.500     A            5   15  \n",
       "1   78.760     A            5   10  \n",
       "2   70.850     A            5   10  \n",
       "3   79.800     A            5   10  \n",
       "4   70.050     A            5   20  \n",
       "5   82.600     A            5   20  \n",
       "6   79.800     A            5   20  \n",
       "7   85.480     A            5   15  \n",
       "8   65.800     B            4    8  \n",
       "9   73.333     A            5   10  \n",
       "10  52.600     C            3    6  "
      ]
     },
     "execution_count": 5,
     "metadata": {},
     "output_type": "execute_result"
    }
   ],
   "source": [
    "#Load the data\n",
    "\n",
    "pgd_result = pd.read_csv(\"PGD result.csv\")\n",
    "pgd_result"
   ]
  },
  {
   "cell_type": "code",
   "execution_count": 6,
   "id": "11e8b4aa",
   "metadata": {},
   "outputs": [
    {
     "name": "stdout",
     "output_type": "stream",
     "text": [
      "<class 'pandas.core.frame.DataFrame'>\n",
      "RangeIndex: 11 entries, 0 to 10\n",
      "Data columns (total 8 columns):\n",
      " #   Column        Non-Null Count  Dtype  \n",
      "---  ------        --------------  -----  \n",
      " 0   ID            11 non-null     int64  \n",
      " 1   COURSE_UNIT   11 non-null     int64  \n",
      " 2   COURSE_CODE   11 non-null     object \n",
      " 3   COURSE_TITLE  11 non-null     object \n",
      " 4   SCORE         11 non-null     float64\n",
      " 5   GRADE         11 non-null     object \n",
      " 6   GRADE_VALUE   11 non-null     int64  \n",
      " 7   GPA           11 non-null     int64  \n",
      "dtypes: float64(1), int64(4), object(3)\n",
      "memory usage: 832.0+ bytes\n"
     ]
    }
   ],
   "source": [
    "#To get info about the dataframe\n",
    "\n",
    "pgd_result.info()"
   ]
  },
  {
   "cell_type": "code",
   "execution_count": 7,
   "id": "16b6b366",
   "metadata": {},
   "outputs": [
    {
     "data": {
      "text/plain": [
       "ID              11\n",
       "COURSE_UNIT     11\n",
       "COURSE_CODE     11\n",
       "COURSE_TITLE    11\n",
       "SCORE           11\n",
       "GRADE           11\n",
       "GRADE_VALUE     11\n",
       "GPA             11\n",
       "dtype: int64"
      ]
     },
     "execution_count": 7,
     "metadata": {},
     "output_type": "execute_result"
    }
   ],
   "source": [
    "#To count the total rows in the dataframe\n",
    "\n",
    "pgd_result.count()"
   ]
  },
  {
   "cell_type": "code",
   "execution_count": 8,
   "id": "704155ab",
   "metadata": {},
   "outputs": [
    {
     "data": {
      "text/html": [
       "<div>\n",
       "<style scoped>\n",
       "    .dataframe tbody tr th:only-of-type {\n",
       "        vertical-align: middle;\n",
       "    }\n",
       "\n",
       "    .dataframe tbody tr th {\n",
       "        vertical-align: top;\n",
       "    }\n",
       "\n",
       "    .dataframe thead th {\n",
       "        text-align: right;\n",
       "    }\n",
       "</style>\n",
       "<table border=\"1\" class=\"dataframe\">\n",
       "  <thead>\n",
       "    <tr style=\"text-align: right;\">\n",
       "      <th></th>\n",
       "      <th>ID</th>\n",
       "      <th>COURSE_UNIT</th>\n",
       "      <th>COURSE_CODE</th>\n",
       "      <th>COURSE_TITLE</th>\n",
       "      <th>SCORE</th>\n",
       "      <th>GRADE</th>\n",
       "      <th>GRADE_VALUE</th>\n",
       "      <th>GPA</th>\n",
       "    </tr>\n",
       "  </thead>\n",
       "  <tbody>\n",
       "    <tr>\n",
       "      <th>0</th>\n",
       "      <td>1</td>\n",
       "      <td>3</td>\n",
       "      <td>SPH 708.1</td>\n",
       "      <td>Human Ecology</td>\n",
       "      <td>72.50</td>\n",
       "      <td>A</td>\n",
       "      <td>5</td>\n",
       "      <td>15</td>\n",
       "    </tr>\n",
       "    <tr>\n",
       "      <th>1</th>\n",
       "      <td>2</td>\n",
       "      <td>2</td>\n",
       "      <td>SPH 703.1</td>\n",
       "      <td>Health Laws and Ethics</td>\n",
       "      <td>78.76</td>\n",
       "      <td>A</td>\n",
       "      <td>5</td>\n",
       "      <td>10</td>\n",
       "    </tr>\n",
       "    <tr>\n",
       "      <th>2</th>\n",
       "      <td>3</td>\n",
       "      <td>2</td>\n",
       "      <td>SPH 701.1</td>\n",
       "      <td>History of Medicine and Public Health</td>\n",
       "      <td>70.85</td>\n",
       "      <td>A</td>\n",
       "      <td>5</td>\n",
       "      <td>10</td>\n",
       "    </tr>\n",
       "    <tr>\n",
       "      <th>3</th>\n",
       "      <td>4</td>\n",
       "      <td>2</td>\n",
       "      <td>SPH 734.2</td>\n",
       "      <td>ICT In Public Health</td>\n",
       "      <td>79.80</td>\n",
       "      <td>A</td>\n",
       "      <td>5</td>\n",
       "      <td>10</td>\n",
       "    </tr>\n",
       "    <tr>\n",
       "      <th>4</th>\n",
       "      <td>5</td>\n",
       "      <td>4</td>\n",
       "      <td>SPH 723.1</td>\n",
       "      <td>Introduction to Biostatistics</td>\n",
       "      <td>70.05</td>\n",
       "      <td>A</td>\n",
       "      <td>5</td>\n",
       "      <td>20</td>\n",
       "    </tr>\n",
       "  </tbody>\n",
       "</table>\n",
       "</div>"
      ],
      "text/plain": [
       "   ID  COURSE_UNIT COURSE_CODE                           COURSE_TITLE  SCORE  \\\n",
       "0   1            3   SPH 708.1                          Human Ecology  72.50   \n",
       "1   2            2   SPH 703.1                 Health Laws and Ethics  78.76   \n",
       "2   3            2   SPH 701.1  History of Medicine and Public Health  70.85   \n",
       "3   4            2   SPH 734.2                   ICT In Public Health  79.80   \n",
       "4   5            4   SPH 723.1          Introduction to Biostatistics  70.05   \n",
       "\n",
       "  GRADE  GRADE_VALUE  GPA  \n",
       "0     A            5   15  \n",
       "1     A            5   10  \n",
       "2     A            5   10  \n",
       "3     A            5   10  \n",
       "4     A            5   20  "
      ]
     },
     "execution_count": 8,
     "metadata": {},
     "output_type": "execute_result"
    }
   ],
   "source": [
    "#To view top 5 dataset\n",
    "\n",
    "pgd_result.head()"
   ]
  },
  {
   "cell_type": "code",
   "execution_count": 9,
   "id": "618f31a6",
   "metadata": {},
   "outputs": [
    {
     "data": {
      "text/html": [
       "<div>\n",
       "<style scoped>\n",
       "    .dataframe tbody tr th:only-of-type {\n",
       "        vertical-align: middle;\n",
       "    }\n",
       "\n",
       "    .dataframe tbody tr th {\n",
       "        vertical-align: top;\n",
       "    }\n",
       "\n",
       "    .dataframe thead th {\n",
       "        text-align: right;\n",
       "    }\n",
       "</style>\n",
       "<table border=\"1\" class=\"dataframe\">\n",
       "  <thead>\n",
       "    <tr style=\"text-align: right;\">\n",
       "      <th></th>\n",
       "      <th>ID</th>\n",
       "      <th>COURSE_UNIT</th>\n",
       "      <th>COURSE_CODE</th>\n",
       "      <th>COURSE_TITLE</th>\n",
       "      <th>SCORE</th>\n",
       "      <th>GRADE</th>\n",
       "      <th>GRADE_VALUE</th>\n",
       "      <th>GPA</th>\n",
       "    </tr>\n",
       "  </thead>\n",
       "  <tbody>\n",
       "    <tr>\n",
       "      <th>6</th>\n",
       "      <td>7</td>\n",
       "      <td>4</td>\n",
       "      <td>SPH 712.1</td>\n",
       "      <td>Public Health Methods</td>\n",
       "      <td>79.800</td>\n",
       "      <td>A</td>\n",
       "      <td>5</td>\n",
       "      <td>20</td>\n",
       "    </tr>\n",
       "    <tr>\n",
       "      <th>7</th>\n",
       "      <td>8</td>\n",
       "      <td>3</td>\n",
       "      <td>SPH 726.2</td>\n",
       "      <td>Healthcare In Nigeria</td>\n",
       "      <td>85.480</td>\n",
       "      <td>A</td>\n",
       "      <td>5</td>\n",
       "      <td>15</td>\n",
       "    </tr>\n",
       "    <tr>\n",
       "      <th>8</th>\n",
       "      <td>9</td>\n",
       "      <td>2</td>\n",
       "      <td>SPH 723.2</td>\n",
       "      <td>Fundamentals of Demography</td>\n",
       "      <td>65.800</td>\n",
       "      <td>B</td>\n",
       "      <td>4</td>\n",
       "      <td>8</td>\n",
       "    </tr>\n",
       "    <tr>\n",
       "      <th>9</th>\n",
       "      <td>10</td>\n",
       "      <td>2</td>\n",
       "      <td>SPH</td>\n",
       "      <td>Field Trip</td>\n",
       "      <td>73.333</td>\n",
       "      <td>A</td>\n",
       "      <td>5</td>\n",
       "      <td>10</td>\n",
       "    </tr>\n",
       "    <tr>\n",
       "      <th>10</th>\n",
       "      <td>11</td>\n",
       "      <td>2</td>\n",
       "      <td>SPH 742.2</td>\n",
       "      <td>Seminar</td>\n",
       "      <td>52.600</td>\n",
       "      <td>C</td>\n",
       "      <td>3</td>\n",
       "      <td>6</td>\n",
       "    </tr>\n",
       "  </tbody>\n",
       "</table>\n",
       "</div>"
      ],
      "text/plain": [
       "    ID  COURSE_UNIT COURSE_CODE                COURSE_TITLE   SCORE GRADE  \\\n",
       "6    7            4   SPH 712.1       Public Health Methods  79.800     A   \n",
       "7    8            3   SPH 726.2       Healthcare In Nigeria  85.480     A   \n",
       "8    9            2   SPH 723.2  Fundamentals of Demography  65.800     B   \n",
       "9   10            2        SPH                   Field Trip  73.333     A   \n",
       "10  11            2   SPH 742.2                     Seminar  52.600     C   \n",
       "\n",
       "    GRADE_VALUE  GPA  \n",
       "6             5   20  \n",
       "7             5   15  \n",
       "8             4    8  \n",
       "9             5   10  \n",
       "10            3    6  "
      ]
     },
     "execution_count": 9,
     "metadata": {},
     "output_type": "execute_result"
    }
   ],
   "source": [
    "#To view last 5 dataset\n",
    "\n",
    "pgd_result.tail()"
   ]
  },
  {
   "cell_type": "code",
   "execution_count": 10,
   "id": "8a613981",
   "metadata": {},
   "outputs": [
    {
     "data": {
      "text/plain": [
       "Index(['ID', 'COURSE_UNIT', 'COURSE_CODE', 'COURSE_TITLE', 'SCORE', 'GRADE',\n",
       "       'GRADE_VALUE', 'GPA'],\n",
       "      dtype='object')"
      ]
     },
     "execution_count": 10,
     "metadata": {},
     "output_type": "execute_result"
    }
   ],
   "source": [
    "pgd_result.columns"
   ]
  },
  {
   "cell_type": "code",
   "execution_count": 16,
   "id": "dc6e1dc0",
   "metadata": {},
   "outputs": [
    {
     "data": {
      "text/html": [
       "<div>\n",
       "<style scoped>\n",
       "    .dataframe tbody tr th:only-of-type {\n",
       "        vertical-align: middle;\n",
       "    }\n",
       "\n",
       "    .dataframe tbody tr th {\n",
       "        vertical-align: top;\n",
       "    }\n",
       "\n",
       "    .dataframe thead th {\n",
       "        text-align: right;\n",
       "    }\n",
       "</style>\n",
       "<table border=\"1\" class=\"dataframe\">\n",
       "  <thead>\n",
       "    <tr style=\"text-align: right;\">\n",
       "      <th></th>\n",
       "      <th>ID</th>\n",
       "      <th>COURSE_UNIT</th>\n",
       "      <th>SCORE</th>\n",
       "      <th>GRADE_VALUE</th>\n",
       "      <th>GPA</th>\n",
       "    </tr>\n",
       "  </thead>\n",
       "  <tbody>\n",
       "    <tr>\n",
       "      <th>count</th>\n",
       "      <td>11.000000</td>\n",
       "      <td>11.000000</td>\n",
       "      <td>11.000000</td>\n",
       "      <td>11.000000</td>\n",
       "      <td>11.000000</td>\n",
       "    </tr>\n",
       "    <tr>\n",
       "      <th>mean</th>\n",
       "      <td>6.000000</td>\n",
       "      <td>2.727273</td>\n",
       "      <td>73.779364</td>\n",
       "      <td>4.727273</td>\n",
       "      <td>13.090909</td>\n",
       "    </tr>\n",
       "    <tr>\n",
       "      <th>std</th>\n",
       "      <td>3.316625</td>\n",
       "      <td>0.904534</td>\n",
       "      <td>9.211799</td>\n",
       "      <td>0.646670</td>\n",
       "      <td>5.146932</td>\n",
       "    </tr>\n",
       "    <tr>\n",
       "      <th>min</th>\n",
       "      <td>1.000000</td>\n",
       "      <td>2.000000</td>\n",
       "      <td>52.600000</td>\n",
       "      <td>3.000000</td>\n",
       "      <td>6.000000</td>\n",
       "    </tr>\n",
       "    <tr>\n",
       "      <th>25%</th>\n",
       "      <td>3.500000</td>\n",
       "      <td>2.000000</td>\n",
       "      <td>70.450000</td>\n",
       "      <td>5.000000</td>\n",
       "      <td>10.000000</td>\n",
       "    </tr>\n",
       "    <tr>\n",
       "      <th>50%</th>\n",
       "      <td>6.000000</td>\n",
       "      <td>2.000000</td>\n",
       "      <td>73.333000</td>\n",
       "      <td>5.000000</td>\n",
       "      <td>10.000000</td>\n",
       "    </tr>\n",
       "    <tr>\n",
       "      <th>75%</th>\n",
       "      <td>8.500000</td>\n",
       "      <td>3.500000</td>\n",
       "      <td>79.800000</td>\n",
       "      <td>5.000000</td>\n",
       "      <td>17.500000</td>\n",
       "    </tr>\n",
       "    <tr>\n",
       "      <th>max</th>\n",
       "      <td>11.000000</td>\n",
       "      <td>4.000000</td>\n",
       "      <td>85.480000</td>\n",
       "      <td>5.000000</td>\n",
       "      <td>20.000000</td>\n",
       "    </tr>\n",
       "  </tbody>\n",
       "</table>\n",
       "</div>"
      ],
      "text/plain": [
       "              ID  COURSE_UNIT      SCORE  GRADE_VALUE        GPA\n",
       "count  11.000000    11.000000  11.000000    11.000000  11.000000\n",
       "mean    6.000000     2.727273  73.779364     4.727273  13.090909\n",
       "std     3.316625     0.904534   9.211799     0.646670   5.146932\n",
       "min     1.000000     2.000000  52.600000     3.000000   6.000000\n",
       "25%     3.500000     2.000000  70.450000     5.000000  10.000000\n",
       "50%     6.000000     2.000000  73.333000     5.000000  10.000000\n",
       "75%     8.500000     3.500000  79.800000     5.000000  17.500000\n",
       "max    11.000000     4.000000  85.480000     5.000000  20.000000"
      ]
     },
     "execution_count": 16,
     "metadata": {},
     "output_type": "execute_result"
    }
   ],
   "source": [
    "pgd_result.describe()"
   ]
  },
  {
   "cell_type": "code",
   "execution_count": 11,
   "id": "0d4fb852",
   "metadata": {},
   "outputs": [
    {
     "data": {
      "text/plain": [
       "(11, 8)"
      ]
     },
     "execution_count": 11,
     "metadata": {},
     "output_type": "execute_result"
    }
   ],
   "source": [
    "#To know the shape of the dataset\n",
    "\n",
    "pgd_result.shape"
   ]
  },
  {
   "cell_type": "code",
   "execution_count": 12,
   "id": "7341b9b6",
   "metadata": {},
   "outputs": [
    {
     "data": {
      "text/plain": [
       "0     72.500\n",
       "1     78.760\n",
       "2     70.850\n",
       "3     79.800\n",
       "4     70.050\n",
       "5     82.600\n",
       "6     79.800\n",
       "7     85.480\n",
       "8     65.800\n",
       "9     73.333\n",
       "10    52.600\n",
       "Name: SCORE, dtype: float64"
      ]
     },
     "execution_count": 12,
     "metadata": {},
     "output_type": "execute_result"
    }
   ],
   "source": [
    "#To work with a particular column from the dataframe\n",
    "\n",
    "score = pgd_result[\"SCORE\"]\n",
    "\n",
    "score"
   ]
  },
  {
   "cell_type": "code",
   "execution_count": 20,
   "id": "4940e4d9",
   "metadata": {},
   "outputs": [
    {
     "data": {
      "text/plain": [
       "85.48"
      ]
     },
     "execution_count": 20,
     "metadata": {},
     "output_type": "execute_result"
    }
   ],
   "source": [
    "score.max()"
   ]
  },
  {
   "cell_type": "code",
   "execution_count": 21,
   "id": "ffbee47b",
   "metadata": {},
   "outputs": [
    {
     "data": {
      "text/plain": [
       "811.5729999999999"
      ]
     },
     "execution_count": 21,
     "metadata": {},
     "output_type": "execute_result"
    }
   ],
   "source": [
    "score.sum()"
   ]
  },
  {
   "cell_type": "code",
   "execution_count": 22,
   "id": "df80034d",
   "metadata": {},
   "outputs": [
    {
     "data": {
      "text/plain": [
       "52.6"
      ]
     },
     "execution_count": 22,
     "metadata": {},
     "output_type": "execute_result"
    }
   ],
   "source": [
    "score.min()"
   ]
  },
  {
   "cell_type": "code",
   "execution_count": 35,
   "id": "3cfc1d78",
   "metadata": {},
   "outputs": [
    {
     "data": {
      "text/html": [
       "<div>\n",
       "<style scoped>\n",
       "    .dataframe tbody tr th:only-of-type {\n",
       "        vertical-align: middle;\n",
       "    }\n",
       "\n",
       "    .dataframe tbody tr th {\n",
       "        vertical-align: top;\n",
       "    }\n",
       "\n",
       "    .dataframe thead th {\n",
       "        text-align: right;\n",
       "    }\n",
       "</style>\n",
       "<table border=\"1\" class=\"dataframe\">\n",
       "  <thead>\n",
       "    <tr style=\"text-align: right;\">\n",
       "      <th></th>\n",
       "      <th>COURSE_TITLE</th>\n",
       "      <th>SCORE</th>\n",
       "      <th>GRADE</th>\n",
       "    </tr>\n",
       "  </thead>\n",
       "  <tbody>\n",
       "    <tr>\n",
       "      <th>0</th>\n",
       "      <td>Human Ecology</td>\n",
       "      <td>72.50</td>\n",
       "      <td>A</td>\n",
       "    </tr>\n",
       "    <tr>\n",
       "      <th>1</th>\n",
       "      <td>Health Laws and Ethics</td>\n",
       "      <td>78.76</td>\n",
       "      <td>A</td>\n",
       "    </tr>\n",
       "    <tr>\n",
       "      <th>2</th>\n",
       "      <td>History of Medicine and Public Health</td>\n",
       "      <td>70.85</td>\n",
       "      <td>A</td>\n",
       "    </tr>\n",
       "  </tbody>\n",
       "</table>\n",
       "</div>"
      ],
      "text/plain": [
       "                            COURSE_TITLE  SCORE GRADE\n",
       "0                          Human Ecology  72.50     A\n",
       "1                 Health Laws and Ethics  78.76     A\n",
       "2  History of Medicine and Public Health  70.85     A"
      ]
     },
     "execution_count": 35,
     "metadata": {},
     "output_type": "execute_result"
    }
   ],
   "source": [
    "#To work with more than two columns from the dataframe\n",
    "\n",
    "course = pgd_result[[\"COURSE_TITLE\", \"SCORE\", \"GRADE\"]]\n",
    "course.head(3)"
   ]
  },
  {
   "cell_type": "code",
   "execution_count": 30,
   "id": "23397c7d",
   "metadata": {},
   "outputs": [
    {
     "data": {
      "text/html": [
       "<div>\n",
       "<style scoped>\n",
       "    .dataframe tbody tr th:only-of-type {\n",
       "        vertical-align: middle;\n",
       "    }\n",
       "\n",
       "    .dataframe tbody tr th {\n",
       "        vertical-align: top;\n",
       "    }\n",
       "\n",
       "    .dataframe thead th {\n",
       "        text-align: right;\n",
       "    }\n",
       "</style>\n",
       "<table border=\"1\" class=\"dataframe\">\n",
       "  <thead>\n",
       "    <tr style=\"text-align: right;\">\n",
       "      <th></th>\n",
       "      <th>ID</th>\n",
       "      <th>COURSE_UNIT</th>\n",
       "      <th>COURSE_CODE</th>\n",
       "      <th>COURSE_TITLE</th>\n",
       "      <th>SCORE</th>\n",
       "      <th>GRADE</th>\n",
       "      <th>GRADE_VALUE</th>\n",
       "      <th>GPA</th>\n",
       "    </tr>\n",
       "  </thead>\n",
       "  <tbody>\n",
       "    <tr>\n",
       "      <th>10</th>\n",
       "      <td>11</td>\n",
       "      <td>2</td>\n",
       "      <td>SPH 742.2</td>\n",
       "      <td>Seminar</td>\n",
       "      <td>52.60</td>\n",
       "      <td>C</td>\n",
       "      <td>3</td>\n",
       "      <td>6</td>\n",
       "    </tr>\n",
       "    <tr>\n",
       "      <th>8</th>\n",
       "      <td>9</td>\n",
       "      <td>2</td>\n",
       "      <td>SPH 723.2</td>\n",
       "      <td>Fundamentals of Demography</td>\n",
       "      <td>65.80</td>\n",
       "      <td>B</td>\n",
       "      <td>4</td>\n",
       "      <td>8</td>\n",
       "    </tr>\n",
       "    <tr>\n",
       "      <th>4</th>\n",
       "      <td>5</td>\n",
       "      <td>4</td>\n",
       "      <td>SPH 723.1</td>\n",
       "      <td>Introduction to Biostatistics</td>\n",
       "      <td>70.05</td>\n",
       "      <td>A</td>\n",
       "      <td>5</td>\n",
       "      <td>20</td>\n",
       "    </tr>\n",
       "    <tr>\n",
       "      <th>2</th>\n",
       "      <td>3</td>\n",
       "      <td>2</td>\n",
       "      <td>SPH 701.1</td>\n",
       "      <td>History of Medicine and Public Health</td>\n",
       "      <td>70.85</td>\n",
       "      <td>A</td>\n",
       "      <td>5</td>\n",
       "      <td>10</td>\n",
       "    </tr>\n",
       "    <tr>\n",
       "      <th>0</th>\n",
       "      <td>1</td>\n",
       "      <td>3</td>\n",
       "      <td>SPH 708.1</td>\n",
       "      <td>Human Ecology</td>\n",
       "      <td>72.50</td>\n",
       "      <td>A</td>\n",
       "      <td>5</td>\n",
       "      <td>15</td>\n",
       "    </tr>\n",
       "  </tbody>\n",
       "</table>\n",
       "</div>"
      ],
      "text/plain": [
       "    ID  COURSE_UNIT COURSE_CODE                           COURSE_TITLE  SCORE  \\\n",
       "10  11            2   SPH 742.2                                Seminar  52.60   \n",
       "8    9            2   SPH 723.2             Fundamentals of Demography  65.80   \n",
       "4    5            4   SPH 723.1          Introduction to Biostatistics  70.05   \n",
       "2    3            2   SPH 701.1  History of Medicine and Public Health  70.85   \n",
       "0    1            3   SPH 708.1                          Human Ecology  72.50   \n",
       "\n",
       "   GRADE  GRADE_VALUE  GPA  \n",
       "10     C            3    6  \n",
       "8      B            4    8  \n",
       "4      A            5   20  \n",
       "2      A            5   10  \n",
       "0      A            5   15  "
      ]
     },
     "execution_count": 30,
     "metadata": {},
     "output_type": "execute_result"
    }
   ],
   "source": [
    "#To Sort the data by Score and grade\n",
    "\n",
    "pgd_result.sort_values (by = ['SCORE', 'GRADE'], ascending = [True, True]).head()"
   ]
  },
  {
   "cell_type": "code",
   "execution_count": 35,
   "id": "2e037d1d",
   "metadata": {},
   "outputs": [],
   "source": [
    "import matplotlib.pyplot as plt"
   ]
  },
  {
   "cell_type": "code",
   "execution_count": 36,
   "id": "62976070",
   "metadata": {},
   "outputs": [],
   "source": [
    "%matplotlib inline"
   ]
  },
  {
   "cell_type": "code",
   "execution_count": 47,
   "id": "4fa2c7f4",
   "metadata": {},
   "outputs": [
    {
     "data": {
      "image/png": "[encoded data removed]",
      "text/plain": [
       "<Figure size 576x576 with 1 Axes>"
      ]
     },
     "metadata": {
      "needs_background": "light"
     },
     "output_type": "display_data"
    }
   ],
   "source": [
    "#Plot a boxplot to show the score distribution by grade.\n",
    "\n",
    "pgd_result.boxplot(column = \"SCORE\", \n",
    "                   by = \"GRADE\", \n",
    "                  figsize = (8, 8))\n",
    "plt.show()"
   ]
  },
  {
   "cell_type": "code",
   "execution_count": null,
   "id": "6c8eb5db",
   "metadata": {},
   "outputs": [],
   "source": []
  }
 ],
 "metadata": {
  "kernelspec": {
   "display_name": "Python 3 (ipykernel)",
   "language": "python",
   "name": "python3"
  },
  "language_info": {
   "codemirror_mode": {
    "name": "ipython",
    "version": 3
   },
   "file_extension": ".py",
   "mimetype": "text/x-python",
   "name": "python",
   "nbconvert_exporter": "python",
   "pygments_lexer": "ipython3",
   "version": "3.9.12"
  }
 },
 "nbformat": 4,
 "nbformat_minor": 5
}
